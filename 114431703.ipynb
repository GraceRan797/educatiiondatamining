{
 "cells": [
  {
   "cell_type": "code",
   "execution_count": 39,
   "metadata": {},
   "outputs": [],
   "source": [
    "import findspark\n",
    "findspark.init('/home/ubuntu/spark-2.1.1-bin-hadoop2.7')\n",
    "import pyspark\n",
    "from pyspark.sql import SparkSession\n",
    "spark = SparkSession.builder.appName('yran').getOrCreate()"
   ]
  },
  {
   "cell_type": "code",
   "execution_count": 40,
   "metadata": {},
   "outputs": [],
   "source": [
    "df = spark.read.csv('722Yiqiao/educdata.csv',header=True,inferSchema=True)"
   ]
  },
  {
   "cell_type": "code",
   "execution_count": 41,
   "metadata": {},
   "outputs": [
    {
     "name": "stdout",
     "output_type": "stream",
     "text": [
      "+------+-----------+------------+------------+-------+---------+-------+--------+--------+-----------+----------------+-----------------+----------+---------------------+------------------------+------------------+-----+\n",
      "|gender|NationalITy|PlaceofBirth|     StageID|GradeID|SectionID|  Topic|Semester|Relation|raisedhands|VisITedResources|AnnouncementsView|Discussion|ParentAnsweringSurvey|ParentschoolSatisfaction|StudentAbsenceDays|Class|\n",
      "+------+-----------+------------+------------+-------+---------+-------+--------+--------+-----------+----------------+-----------------+----------+---------------------+------------------------+------------------+-----+\n",
      "|     M|         KW|      KuwaIT|  lowerlevel|      4|        A|     IT|       F|  Father|         15|              16|                2|        20|                  Yes|                    Good|           Under-7|    M|\n",
      "|     M|         KW|      KuwaIT|  lowerlevel|      4|        A|     IT|       F|  Father|         20|              20|                3|        25|                  Yes|                    Good|           Under-7|    M|\n",
      "|     M|         KW|      KuwaIT|  lowerlevel|      4|        A|     IT|       F|  Father|         10|               7|                0|        30|                   No|                     Bad|           Above-7|    L|\n",
      "|     M|         KW|      KuwaIT|  lowerlevel|      4|        A|     IT|       F|  Father|         30|              25|                5|        35|                   No|                     Bad|           Above-7|    L|\n",
      "|     M|         KW|      KuwaIT|  lowerlevel|      4|        A|     IT|       F|  Father|         40|              50|               12|        50|                   No|                     Bad|           Above-7|    M|\n",
      "|     F|         KW|      KuwaIT|  lowerlevel|      4|        A|     IT|       F|  Father|         42|              30|               13|        70|                  Yes|                     Bad|           Above-7|    M|\n",
      "|     M|         KW|      KuwaIT|MiddleSchool|      7|        A|   Math|       F|  Father|         35|              12|                0|        17|                   No|                     Bad|           Above-7|    L|\n",
      "|     M|         KW|      KuwaIT|MiddleSchool|      7|        A|   Math|       F|  Father|         50|              10|               15|        22|                  Yes|                    Good|           Under-7|    M|\n",
      "|     F|         KW|      KuwaIT|MiddleSchool|      7|        A|   Math|       F|  Father|         12|              21|               16|        50|                  Yes|                    Good|           Under-7|    M|\n",
      "|     F|         KW|      KuwaIT|MiddleSchool|      7|        B|     IT|       F|  Father|         70|              80|               25|        70|                  Yes|                    Good|           Under-7|    M|\n",
      "|     M|         KW|      KuwaIT|MiddleSchool|      7|        A|   Math|       F|  Father|         50|              88|               30|        80|                  Yes|                    Good|           Under-7|    H|\n",
      "|     M|         KW|      KuwaIT|MiddleSchool|      7|        B|   Math|       F|  Father|         19|               6|               19|        12|                  Yes|                    Good|           Under-7|    M|\n",
      "|     M|      Egypt|       Egypt|MiddleSchool|      7|        A|     IT|       F|  Father|       null|              60|               36|        80|                  Yes|                    Good|           Above-7|    M|\n",
      "|     M|       Iran|        Iran|  HighSchool|      2|        B|     IT|       F|  Father|       null|              40|               50|      null|                  Yes|                    Good|           Under-7|    M|\n",
      "|     M|       Iraq|        Iraq|MiddleSchool|      6|        A|English|       F|    null|         45|              56|               78|      null|                 null|                    null|           Under-7|    H|\n",
      "|     M|     Jordan|      Jordan|        null|   null|        A|English|       F|  Father|         34|              45|               21|        88|                 null|                    null|              null|    K|\n",
      "|     M|         KW|      KuwaIT|MiddleSchool|      7|        A|   Math|       F|  Father|       null|              43|               31|        19|                  Yes|                    Good|           Under-7|    M|\n",
      "|     M|    lebanon|     lebanon|MiddleSchool|   null|     null|   Math|       F|  Father|         56|              22|                7|        45|                  Yes|                    Good|           Above-7|    L|\n",
      "|     M|       null|        null|  lowerlevel|      2|        A|   null|    null|  Father|         43|               9|               13|         5|                   No|                    Good|           Above-7|    L|\n",
      "|     M|    Morocco|     Morocco|  lowerlevel|      2|        B|   null|    null|  Father|         43|              56|               71|      null|                  Yes|                    Good|           Under-7|    H|\n",
      "+------+-----------+------------+------------+-------+---------+-------+--------+--------+-----------+----------------+-----------------+----------+---------------------+------------------------+------------------+-----+\n",
      "only showing top 20 rows\n",
      "\n"
     ]
    }
   ],
   "source": [
    "df.show()"
   ]
  },
  {
   "cell_type": "code",
   "execution_count": 42,
   "metadata": {},
   "outputs": [
    {
     "name": "stdout",
     "output_type": "stream",
     "text": [
      "root\n",
      " |-- gender: string (nullable = true)\n",
      " |-- NationalITy: string (nullable = true)\n",
      " |-- PlaceofBirth: string (nullable = true)\n",
      " |-- StageID: string (nullable = true)\n",
      " |-- GradeID: integer (nullable = true)\n",
      " |-- SectionID: string (nullable = true)\n",
      " |-- Topic: string (nullable = true)\n",
      " |-- Semester: string (nullable = true)\n",
      " |-- Relation: string (nullable = true)\n",
      " |-- raisedhands: integer (nullable = true)\n",
      " |-- VisITedResources: integer (nullable = true)\n",
      " |-- AnnouncementsView: integer (nullable = true)\n",
      " |-- Discussion: integer (nullable = true)\n",
      " |-- ParentAnsweringSurvey: string (nullable = true)\n",
      " |-- ParentschoolSatisfaction: string (nullable = true)\n",
      " |-- StudentAbsenceDays: string (nullable = true)\n",
      " |-- Class: string (nullable = true)\n",
      "\n",
      "[Row(gender='M', NationalITy='KW', PlaceofBirth='KuwaIT', StageID='lowerlevel', GradeID=4, SectionID='A', Topic='IT', Semester='F', Relation='Father', raisedhands=15, VisITedResources=16, AnnouncementsView=2, Discussion=20, ParentAnsweringSurvey='Yes', ParentschoolSatisfaction='Good', StudentAbsenceDays='Under-7', Class='M')]\n"
     ]
    }
   ],
   "source": [
    "# Print schema allows us to visualise the data structure at a high level. \n",
    "df.printSchema()\n",
    "\n",
    "# We can also use head to print a specific amount of rows, so we can get a better understanding of the data points. \n",
    "# Note that we have to specify 'print' depending on the method we're using. Otherwise it may not show up!\n",
    "print(df.head(1))"
   ]
  },
  {
   "cell_type": "code",
   "execution_count": 43,
   "metadata": {},
   "outputs": [
    {
     "name": "stdout",
     "output_type": "stream",
     "text": [
      "+-------+------+-----------+------------+----------+------------------+---------+-------+--------+--------+-----------------+-----------------+------------------+-----------------+---------------------+------------------------+------------------+-----+\n",
      "|summary|gender|NationalITy|PlaceofBirth|   StageID|           GradeID|SectionID|  Topic|Semester|Relation|      raisedhands| VisITedResources| AnnouncementsView|       Discussion|ParentAnsweringSurvey|ParentschoolSatisfaction|StudentAbsenceDays|Class|\n",
      "+-------+------+-----------+------------+----------+------------------+---------+-------+--------+--------+-----------------+-----------------+------------------+-----------------+---------------------+------------------------+------------------+-----+\n",
      "|  count|   500|        500|         499|       499|               495|      496|    493|     498|     500|              497|              497|               499|              494|                  499|                     499|               499|  498|\n",
      "|   mean|  null|       null|        null|      null| 5.616161616161616|     null|   null|    null|    null|46.45070422535211|54.23943661971831| 37.94188376753507|42.95748987854251|                 null|                    null|              null| null|\n",
      "| stddev|  null|       null|        null|      null|2.8309562292991917|     null|   null|    null|    null|30.61470505874116|32.83102225430407|26.591937760795336|27.80160469661409|                 null|                    null|              null| null|\n",
      "|    min|     F|      Egypt|       Egypt|HighSchool|                 2|        A| Arabic|       F|  Father|                0|                0|                 0|                0|                   No|                     Bad|           Above-7|    H|\n",
      "|    max|     M|   venzuela|    venzuela|lowerlevel|                12|        C|Spanish|       S|     Mum|              100|               99|                98|               99|                  Yes|                    Good|           Under-7|    M|\n",
      "+-------+------+-----------+------------+----------+------------------+---------+-------+--------+--------+-----------------+-----------------+------------------+-----------------+---------------------+------------------------+------------------+-----+\n",
      "\n"
     ]
    }
   ],
   "source": [
    "df.describe().show()"
   ]
  },
  {
   "cell_type": "code",
   "execution_count": 44,
   "metadata": {
    "scrolled": true
   },
   "outputs": [
    {
     "name": "stdout",
     "output_type": "stream",
     "text": [
      "+-------+-----------------+-----------------+------------------+-----------------+\n",
      "|summary|      raisedhands| VisITedResources| AnnouncementsView|       Discussion|\n",
      "+-------+-----------------+-----------------+------------------+-----------------+\n",
      "|  count|              497|              497|               499|              494|\n",
      "|   mean|46.45070422535211|54.23943661971831| 37.94188376753507|42.95748987854251|\n",
      "| stddev|30.61470505874116|32.83102225430407|26.591937760795336|27.80160469661409|\n",
      "|    min|                0|                0|                 0|                0|\n",
      "|    max|              100|               99|                98|               99|\n",
      "+-------+-----------------+-----------------+------------------+-----------------+\n",
      "\n"
     ]
    }
   ],
   "source": [
    "df.select('raisedhands', 'VisITedResources', 'AnnouncementsView', 'Discussion').describe().show()"
   ]
  },
  {
   "cell_type": "code",
   "execution_count": 45,
   "metadata": {},
   "outputs": [
    {
     "name": "stdout",
     "output_type": "stream",
     "text": [
      "+-------+------------+------------------+---------------------+----------------------+------------------+\n",
      "|GradeID|avg(GradeID)|  avg(raisedhands)|avg(VisITedResources)|avg(AnnouncementsView)|   avg(Discussion)|\n",
      "+-------+------------+------------------+---------------------+----------------------+------------------+\n",
      "|     12|        12.0| 37.36363636363637|                 41.0|     25.09090909090909| 54.90909090909091|\n",
      "|   null|        null|41.333333333333336|                 43.5|    19.666666666666668|              43.2|\n",
      "|      6|         6.0| 60.34285714285714|   54.529411764705884|                  47.4| 44.14705882352941|\n",
      "|      5|         5.0|             30.75|                 14.0|                  29.5|              36.0|\n",
      "|      9|         9.0|              21.6|                 46.0|                  27.0|              58.0|\n",
      "|      4|         4.0|46.729166666666664|              51.6875|                43.125|            51.125|\n",
      "|      8|         8.0|56.324786324786324|     63.1025641025641|     46.47008547008547|43.495726495726494|\n",
      "|      7|         7.0| 47.16504854368932|    52.86666666666667|     37.88461538461539| 48.06730769230769|\n",
      "|     10|        10.0|29.833333333333332|                 44.4|                  38.5|              28.4|\n",
      "|     11|        11.0| 58.30769230769231|    62.30769230769231|     52.38461538461539| 55.69230769230769|\n",
      "|      2|         2.0| 36.61744966442953|    51.14666666666667|    28.453333333333333| 34.17567567567568|\n",
      "+-------+------------+------------------+---------------------+----------------------+------------------+\n",
      "\n"
     ]
    }
   ],
   "source": [
    "df.groupBy('GradeID').mean().show()"
   ]
  },
  {
   "cell_type": "code",
   "execution_count": 46,
   "metadata": {},
   "outputs": [
    {
     "name": "stdout",
     "output_type": "stream",
     "text": [
      "Sorted by raisedhands\n",
      "+-------+------------+------------------+---------------------+----------------------+------------------+\n",
      "|GradeID|avg(GradeID)|  avg(raisedhands)|avg(VisITedResources)|avg(AnnouncementsView)|   avg(Discussion)|\n",
      "+-------+------------+------------------+---------------------+----------------------+------------------+\n",
      "|      9|         9.0|              21.6|                 46.0|                  27.0|              58.0|\n",
      "|     10|        10.0|29.833333333333332|                 44.4|                  38.5|              28.4|\n",
      "|      5|         5.0|             30.75|                 14.0|                  29.5|              36.0|\n",
      "|      2|         2.0| 36.61744966442953|    51.14666666666667|    28.453333333333333| 34.17567567567568|\n",
      "|     12|        12.0| 37.36363636363637|                 41.0|     25.09090909090909| 54.90909090909091|\n",
      "|   null|        null|41.333333333333336|                 43.5|    19.666666666666668|              43.2|\n",
      "|      4|         4.0|46.729166666666664|              51.6875|                43.125|            51.125|\n",
      "|      7|         7.0| 47.16504854368932|    52.86666666666667|     37.88461538461539| 48.06730769230769|\n",
      "|      8|         8.0|56.324786324786324|     63.1025641025641|     46.47008547008547|43.495726495726494|\n",
      "|     11|        11.0| 58.30769230769231|    62.30769230769231|     52.38461538461539| 55.69230769230769|\n",
      "|      6|         6.0| 60.34285714285714|   54.529411764705884|                  47.4| 44.14705882352941|\n",
      "+-------+------------+------------------+---------------------+----------------------+------------------+\n",
      "\n",
      "Sorted by VisITedResources\n",
      "+-------+------------+------------------+---------------------+----------------------+------------------+\n",
      "|GradeID|avg(GradeID)|  avg(raisedhands)|avg(VisITedResources)|avg(AnnouncementsView)|   avg(Discussion)|\n",
      "+-------+------------+------------------+---------------------+----------------------+------------------+\n",
      "|      5|         5.0|             30.75|                 14.0|                  29.5|              36.0|\n",
      "|     12|        12.0| 37.36363636363637|                 41.0|     25.09090909090909| 54.90909090909091|\n",
      "|   null|        null|41.333333333333336|                 43.5|    19.666666666666668|              43.2|\n",
      "|     10|        10.0|29.833333333333332|                 44.4|                  38.5|              28.4|\n",
      "|      9|         9.0|              21.6|                 46.0|                  27.0|              58.0|\n",
      "|      2|         2.0| 36.61744966442953|    51.14666666666667|    28.453333333333333| 34.17567567567568|\n",
      "|      4|         4.0|46.729166666666664|              51.6875|                43.125|            51.125|\n",
      "|      7|         7.0| 47.16504854368932|    52.86666666666667|     37.88461538461539| 48.06730769230769|\n",
      "|      6|         6.0| 60.34285714285714|   54.529411764705884|                  47.4| 44.14705882352941|\n",
      "|     11|        11.0| 58.30769230769231|    62.30769230769231|     52.38461538461539| 55.69230769230769|\n",
      "|      8|         8.0|56.324786324786324|     63.1025641025641|     46.47008547008547|43.495726495726494|\n",
      "+-------+------------+------------------+---------------------+----------------------+------------------+\n",
      "\n"
     ]
    }
   ],
   "source": [
    "group_GradeID_df = df.groupBy('GradeID').mean()\n",
    "print(\"Sorted by raisedhands\")\n",
    "group_GradeID_df.orderBy('avg(raisedhands)').show()\n",
    "print(\"Sorted by VisITedResources\")\n",
    "df.groupBy('GradeID').mean().orderBy('avg(VisITedResources)').show()"
   ]
  },
  {
   "cell_type": "code",
   "execution_count": 47,
   "metadata": {},
   "outputs": [
    {
     "name": "stdout",
     "output_type": "stream",
     "text": [
      "Total data points: 501\n"
     ]
    }
   ],
   "source": [
    "print(\"Total data points:\", df.count())"
   ]
  },
  {
   "cell_type": "code",
   "execution_count": 48,
   "metadata": {},
   "outputs": [
    {
     "name": "stdout",
     "output_type": "stream",
     "text": [
      "+------+-----------+------------+------------+-------+---------+-----+--------+--------+-----------+----------------+-----------------+----------+---------------------+------------------------+------------------+-----+\n",
      "|gender|NationalITy|PlaceofBirth|     StageID|GradeID|SectionID|Topic|Semester|Relation|raisedhands|VisITedResources|AnnouncementsView|Discussion|ParentAnsweringSurvey|ParentschoolSatisfaction|StudentAbsenceDays|Class|\n",
      "+------+-----------+------------+------------+-------+---------+-----+--------+--------+-----------+----------------+-----------------+----------+---------------------+------------------------+------------------+-----+\n",
      "|     M|         KW|      KuwaIT|  lowerlevel|      4|        A|   IT|       F|  Father|         15|              16|                2|        20|                  Yes|                    Good|           Under-7|    M|\n",
      "|     M|         KW|      KuwaIT|  lowerlevel|      4|        A|   IT|       F|  Father|         20|              20|                3|        25|                  Yes|                    Good|           Under-7|    M|\n",
      "|     M|         KW|      KuwaIT|  lowerlevel|      4|        A|   IT|       F|  Father|         10|               7|                0|        30|                   No|                     Bad|           Above-7|    L|\n",
      "|     M|         KW|      KuwaIT|  lowerlevel|      4|        A|   IT|       F|  Father|         30|              25|                5|        35|                   No|                     Bad|           Above-7|    L|\n",
      "|     M|         KW|      KuwaIT|  lowerlevel|      4|        A|   IT|       F|  Father|         40|              50|               12|        50|                   No|                     Bad|           Above-7|    M|\n",
      "|     F|         KW|      KuwaIT|  lowerlevel|      4|        A|   IT|       F|  Father|         42|              30|               13|        70|                  Yes|                     Bad|           Above-7|    M|\n",
      "|     M|         KW|      KuwaIT|MiddleSchool|      7|        A| Math|       F|  Father|         35|              12|                0|        17|                   No|                     Bad|           Above-7|    L|\n",
      "|     M|         KW|      KuwaIT|MiddleSchool|      7|        A| Math|       F|  Father|         50|              10|               15|        22|                  Yes|                    Good|           Under-7|    M|\n",
      "|     F|         KW|      KuwaIT|MiddleSchool|      7|        A| Math|       F|  Father|         12|              21|               16|        50|                  Yes|                    Good|           Under-7|    M|\n",
      "|     F|         KW|      KuwaIT|MiddleSchool|      7|        B|   IT|       F|  Father|         70|              80|               25|        70|                  Yes|                    Good|           Under-7|    M|\n",
      "|     M|         KW|      KuwaIT|MiddleSchool|      7|        A| Math|       F|  Father|         50|              88|               30|        80|                  Yes|                    Good|           Under-7|    H|\n",
      "|     M|         KW|      KuwaIT|MiddleSchool|      7|        B| Math|       F|  Father|         19|               6|               19|        12|                  Yes|                    Good|           Under-7|    M|\n",
      "|     M|         KW|      KuwaIT|  lowerlevel|      4|        A|   IT|       F|  Father|          5|               1|                0|        11|                   No|                     Bad|           Above-7|    L|\n",
      "|     M|    lebanon|     lebanon|MiddleSchool|      8|        A| Math|       F|  Father|         20|              14|               12|        19|                   No|                     Bad|           Above-7|    L|\n",
      "|     F|         KW|      KuwaIT|MiddleSchool|      8|        A| Math|       F|     Mum|         62|              70|               44|        60|                   No|                     Bad|           Above-7|    H|\n",
      "|     F|         KW|      KuwaIT|MiddleSchool|      6|        A|   IT|       F|  Father|         30|              40|               22|        66|                  Yes|                    Good|           Under-7|    M|\n",
      "|     M|         KW|      KuwaIT|MiddleSchool|      7|        B|   IT|       F|  Father|         36|              30|               20|        80|                   No|                     Bad|           Above-7|    M|\n",
      "|     M|         KW|      KuwaIT|MiddleSchool|      7|        A| Math|       F|  Father|         55|              13|               35|        90|                   No|                     Bad|           Above-7|    M|\n",
      "|     F|         KW|      KuwaIT|MiddleSchool|      7|        A|   IT|       F|     Mum|         69|              15|               36|        96|                  Yes|                    Good|           Under-7|    M|\n",
      "|     M|         KW|      KuwaIT|MiddleSchool|      7|        B|   IT|       F|     Mum|         70|              50|               40|        99|                  Yes|                    Good|           Under-7|    H|\n",
      "+------+-----------+------------+------------+-------+---------+-----+--------+--------+-----------+----------------+-----------------+----------+---------------------+------------------------+------------------+-----+\n",
      "only showing top 20 rows\n",
      "\n",
      "Total data points: 501\n"
     ]
    }
   ],
   "source": [
    "df.na.drop().show()\n",
    "print(\"Total data points:\", df.count())"
   ]
  },
  {
   "cell_type": "code",
   "execution_count": 49,
   "metadata": {},
   "outputs": [
    {
     "name": "stdout",
     "output_type": "stream",
     "text": [
      "+------+-----------+------------+------------+-------+---------+-----+--------+--------+-----------+----------------+-----------------+----------+---------------------+------------------------+------------------+-----+\n",
      "|gender|NationalITy|PlaceofBirth|     StageID|GradeID|SectionID|Topic|Semester|Relation|raisedhands|VisITedResources|AnnouncementsView|Discussion|ParentAnsweringSurvey|ParentschoolSatisfaction|StudentAbsenceDays|Class|\n",
      "+------+-----------+------------+------------+-------+---------+-----+--------+--------+-----------+----------------+-----------------+----------+---------------------+------------------------+------------------+-----+\n",
      "|     M|         KW|      KuwaIT|  lowerlevel|      4|        A|   IT|       F|  Father|         15|              16|                2|        20|                  Yes|                    Good|           Under-7|    M|\n",
      "|     M|         KW|      KuwaIT|  lowerlevel|      4|        A|   IT|       F|  Father|         20|              20|                3|        25|                  Yes|                    Good|           Under-7|    M|\n",
      "|     M|         KW|      KuwaIT|  lowerlevel|      4|        A|   IT|       F|  Father|         10|               7|                0|        30|                   No|                     Bad|           Above-7|    L|\n",
      "|     M|         KW|      KuwaIT|  lowerlevel|      4|        A|   IT|       F|  Father|         30|              25|                5|        35|                   No|                     Bad|           Above-7|    L|\n",
      "|     M|         KW|      KuwaIT|  lowerlevel|      4|        A|   IT|       F|  Father|         40|              50|               12|        50|                   No|                     Bad|           Above-7|    M|\n",
      "|     F|         KW|      KuwaIT|  lowerlevel|      4|        A|   IT|       F|  Father|         42|              30|               13|        70|                  Yes|                     Bad|           Above-7|    M|\n",
      "|     M|         KW|      KuwaIT|MiddleSchool|      7|        A| Math|       F|  Father|         35|              12|                0|        17|                   No|                     Bad|           Above-7|    L|\n",
      "|     M|         KW|      KuwaIT|MiddleSchool|      7|        A| Math|       F|  Father|         50|              10|               15|        22|                  Yes|                    Good|           Under-7|    M|\n",
      "|     F|         KW|      KuwaIT|MiddleSchool|      7|        A| Math|       F|  Father|         12|              21|               16|        50|                  Yes|                    Good|           Under-7|    M|\n",
      "|     F|         KW|      KuwaIT|MiddleSchool|      7|        B|   IT|       F|  Father|         70|              80|               25|        70|                  Yes|                    Good|           Under-7|    M|\n",
      "|     M|         KW|      KuwaIT|MiddleSchool|      7|        A| Math|       F|  Father|         50|              88|               30|        80|                  Yes|                    Good|           Under-7|    H|\n",
      "|     M|         KW|      KuwaIT|MiddleSchool|      7|        B| Math|       F|  Father|         19|               6|               19|        12|                  Yes|                    Good|           Under-7|    M|\n",
      "|     M|         KW|      KuwaIT|  lowerlevel|      4|        A|   IT|       F|  Father|          5|               1|                0|        11|                   No|                     Bad|           Above-7|    L|\n",
      "|     M|    lebanon|     lebanon|MiddleSchool|      8|        A| Math|       F|  Father|         20|              14|               12|        19|                   No|                     Bad|           Above-7|    L|\n",
      "|     F|         KW|      KuwaIT|MiddleSchool|      8|        A| Math|       F|     Mum|         62|              70|               44|        60|                   No|                     Bad|           Above-7|    H|\n",
      "|     F|         KW|      KuwaIT|MiddleSchool|      6|        A|   IT|       F|  Father|         30|              40|               22|        66|                  Yes|                    Good|           Under-7|    M|\n",
      "|     M|         KW|      KuwaIT|MiddleSchool|      7|        B|   IT|       F|  Father|         36|              30|               20|        80|                   No|                     Bad|           Above-7|    M|\n",
      "|     M|         KW|      KuwaIT|MiddleSchool|      7|        A| Math|       F|  Father|         55|              13|               35|        90|                   No|                     Bad|           Above-7|    M|\n",
      "|     F|         KW|      KuwaIT|MiddleSchool|      7|        A|   IT|       F|     Mum|         69|              15|               36|        96|                  Yes|                    Good|           Under-7|    M|\n",
      "|     M|         KW|      KuwaIT|MiddleSchool|      7|        B|   IT|       F|     Mum|         70|              50|               40|        99|                  Yes|                    Good|           Under-7|    H|\n",
      "+------+-----------+------------+------------+-------+---------+-----+--------+--------+-----------+----------------+-----------------+----------+---------------------+------------------------+------------------+-----+\n",
      "only showing top 20 rows\n",
      "\n",
      "Total data points: 480\n"
     ]
    }
   ],
   "source": [
    "dropped_df = df.na.drop()\n",
    "dropped_df.show()\n",
    "print(\"Total data points:\", dropped_df.count())"
   ]
  },
  {
   "cell_type": "code",
   "execution_count": 50,
   "metadata": {},
   "outputs": [
    {
     "data": {
      "text/html": [
       "<div>\n",
       "<style scoped>\n",
       "    .dataframe tbody tr th:only-of-type {\n",
       "        vertical-align: middle;\n",
       "    }\n",
       "\n",
       "    .dataframe tbody tr th {\n",
       "        vertical-align: top;\n",
       "    }\n",
       "\n",
       "    .dataframe thead th {\n",
       "        text-align: right;\n",
       "    }\n",
       "</style>\n",
       "<table border=\"1\" class=\"dataframe\">\n",
       "  <thead>\n",
       "    <tr style=\"text-align: right;\">\n",
       "      <th></th>\n",
       "      <th>gender</th>\n",
       "      <th>NationalITy</th>\n",
       "      <th>PlaceofBirth</th>\n",
       "      <th>StageID</th>\n",
       "      <th>GradeID</th>\n",
       "      <th>SectionID</th>\n",
       "      <th>Topic</th>\n",
       "      <th>Semester</th>\n",
       "      <th>Relation</th>\n",
       "      <th>raisedhands</th>\n",
       "      <th>VisITedResources</th>\n",
       "      <th>AnnouncementsView</th>\n",
       "      <th>Discussion</th>\n",
       "      <th>ParentAnsweringSurvey</th>\n",
       "      <th>ParentschoolSatisfaction</th>\n",
       "      <th>StudentAbsenceDays</th>\n",
       "      <th>Class</th>\n",
       "    </tr>\n",
       "  </thead>\n",
       "  <tbody>\n",
       "    <tr>\n",
       "      <th>0</th>\n",
       "      <td>M</td>\n",
       "      <td>KW</td>\n",
       "      <td>KuwaIT</td>\n",
       "      <td>lowerlevel</td>\n",
       "      <td>4</td>\n",
       "      <td>A</td>\n",
       "      <td>IT</td>\n",
       "      <td>F</td>\n",
       "      <td>Father</td>\n",
       "      <td>15</td>\n",
       "      <td>16</td>\n",
       "      <td>2</td>\n",
       "      <td>20</td>\n",
       "      <td>Yes</td>\n",
       "      <td>Good</td>\n",
       "      <td>Under-7</td>\n",
       "      <td>M</td>\n",
       "    </tr>\n",
       "    <tr>\n",
       "      <th>1</th>\n",
       "      <td>M</td>\n",
       "      <td>KW</td>\n",
       "      <td>KuwaIT</td>\n",
       "      <td>lowerlevel</td>\n",
       "      <td>4</td>\n",
       "      <td>A</td>\n",
       "      <td>IT</td>\n",
       "      <td>F</td>\n",
       "      <td>Father</td>\n",
       "      <td>20</td>\n",
       "      <td>20</td>\n",
       "      <td>3</td>\n",
       "      <td>25</td>\n",
       "      <td>Yes</td>\n",
       "      <td>Good</td>\n",
       "      <td>Under-7</td>\n",
       "      <td>M</td>\n",
       "    </tr>\n",
       "    <tr>\n",
       "      <th>2</th>\n",
       "      <td>M</td>\n",
       "      <td>KW</td>\n",
       "      <td>KuwaIT</td>\n",
       "      <td>lowerlevel</td>\n",
       "      <td>4</td>\n",
       "      <td>A</td>\n",
       "      <td>IT</td>\n",
       "      <td>F</td>\n",
       "      <td>Father</td>\n",
       "      <td>10</td>\n",
       "      <td>7</td>\n",
       "      <td>0</td>\n",
       "      <td>30</td>\n",
       "      <td>No</td>\n",
       "      <td>Bad</td>\n",
       "      <td>Above-7</td>\n",
       "      <td>L</td>\n",
       "    </tr>\n",
       "    <tr>\n",
       "      <th>3</th>\n",
       "      <td>M</td>\n",
       "      <td>KW</td>\n",
       "      <td>KuwaIT</td>\n",
       "      <td>lowerlevel</td>\n",
       "      <td>4</td>\n",
       "      <td>A</td>\n",
       "      <td>IT</td>\n",
       "      <td>F</td>\n",
       "      <td>Father</td>\n",
       "      <td>30</td>\n",
       "      <td>25</td>\n",
       "      <td>5</td>\n",
       "      <td>35</td>\n",
       "      <td>No</td>\n",
       "      <td>Bad</td>\n",
       "      <td>Above-7</td>\n",
       "      <td>L</td>\n",
       "    </tr>\n",
       "    <tr>\n",
       "      <th>4</th>\n",
       "      <td>M</td>\n",
       "      <td>KW</td>\n",
       "      <td>KuwaIT</td>\n",
       "      <td>lowerlevel</td>\n",
       "      <td>4</td>\n",
       "      <td>A</td>\n",
       "      <td>IT</td>\n",
       "      <td>F</td>\n",
       "      <td>Father</td>\n",
       "      <td>40</td>\n",
       "      <td>50</td>\n",
       "      <td>12</td>\n",
       "      <td>50</td>\n",
       "      <td>No</td>\n",
       "      <td>Bad</td>\n",
       "      <td>Above-7</td>\n",
       "      <td>M</td>\n",
       "    </tr>\n",
       "  </tbody>\n",
       "</table>\n",
       "</div>"
      ],
      "text/plain": [
       "  gender NationalITy PlaceofBirth     StageID  GradeID SectionID Topic  \\\n",
       "0      M          KW       KuwaIT  lowerlevel        4         A    IT   \n",
       "1      M          KW       KuwaIT  lowerlevel        4         A    IT   \n",
       "2      M          KW       KuwaIT  lowerlevel        4         A    IT   \n",
       "3      M          KW       KuwaIT  lowerlevel        4         A    IT   \n",
       "4      M          KW       KuwaIT  lowerlevel        4         A    IT   \n",
       "\n",
       "  Semester Relation  raisedhands  VisITedResources  AnnouncementsView  \\\n",
       "0        F   Father           15                16                  2   \n",
       "1        F   Father           20                20                  3   \n",
       "2        F   Father           10                 7                  0   \n",
       "3        F   Father           30                25                  5   \n",
       "4        F   Father           40                50                 12   \n",
       "\n",
       "   Discussion ParentAnsweringSurvey ParentschoolSatisfaction  \\\n",
       "0          20                   Yes                     Good   \n",
       "1          25                   Yes                     Good   \n",
       "2          30                    No                      Bad   \n",
       "3          35                    No                      Bad   \n",
       "4          50                    No                      Bad   \n",
       "\n",
       "  StudentAbsenceDays Class  \n",
       "0            Under-7     M  \n",
       "1            Under-7     M  \n",
       "2            Above-7     L  \n",
       "3            Above-7     L  \n",
       "4            Above-7     M  "
      ]
     },
     "execution_count": 50,
     "metadata": {},
     "output_type": "execute_result"
    }
   ],
   "source": [
    "# Import pandas.\n",
    "import pandas as pd\n",
    "\n",
    "# Take the first five rows of data, and visualise.\n",
    "pd.DataFrame(df.take(5), columns=df.columns)"
   ]
  },
  {
   "cell_type": "code",
   "execution_count": 51,
   "metadata": {},
   "outputs": [
    {
     "data": {
      "text/html": [
       "<div>\n",
       "<style scoped>\n",
       "    .dataframe tbody tr th:only-of-type {\n",
       "        vertical-align: middle;\n",
       "    }\n",
       "\n",
       "    .dataframe tbody tr th {\n",
       "        vertical-align: top;\n",
       "    }\n",
       "\n",
       "    .dataframe thead th {\n",
       "        text-align: right;\n",
       "    }\n",
       "</style>\n",
       "<table border=\"1\" class=\"dataframe\">\n",
       "  <thead>\n",
       "    <tr style=\"text-align: right;\">\n",
       "      <th></th>\n",
       "      <th>0</th>\n",
       "      <th>1</th>\n",
       "      <th>2</th>\n",
       "      <th>3</th>\n",
       "      <th>4</th>\n",
       "    </tr>\n",
       "  </thead>\n",
       "  <tbody>\n",
       "    <tr>\n",
       "      <th>gender</th>\n",
       "      <td>M</td>\n",
       "      <td>M</td>\n",
       "      <td>M</td>\n",
       "      <td>M</td>\n",
       "      <td>M</td>\n",
       "    </tr>\n",
       "    <tr>\n",
       "      <th>NationalITy</th>\n",
       "      <td>KW</td>\n",
       "      <td>KW</td>\n",
       "      <td>KW</td>\n",
       "      <td>KW</td>\n",
       "      <td>KW</td>\n",
       "    </tr>\n",
       "    <tr>\n",
       "      <th>PlaceofBirth</th>\n",
       "      <td>KuwaIT</td>\n",
       "      <td>KuwaIT</td>\n",
       "      <td>KuwaIT</td>\n",
       "      <td>KuwaIT</td>\n",
       "      <td>KuwaIT</td>\n",
       "    </tr>\n",
       "    <tr>\n",
       "      <th>StageID</th>\n",
       "      <td>lowerlevel</td>\n",
       "      <td>lowerlevel</td>\n",
       "      <td>lowerlevel</td>\n",
       "      <td>lowerlevel</td>\n",
       "      <td>lowerlevel</td>\n",
       "    </tr>\n",
       "    <tr>\n",
       "      <th>GradeID</th>\n",
       "      <td>4</td>\n",
       "      <td>4</td>\n",
       "      <td>4</td>\n",
       "      <td>4</td>\n",
       "      <td>4</td>\n",
       "    </tr>\n",
       "    <tr>\n",
       "      <th>SectionID</th>\n",
       "      <td>A</td>\n",
       "      <td>A</td>\n",
       "      <td>A</td>\n",
       "      <td>A</td>\n",
       "      <td>A</td>\n",
       "    </tr>\n",
       "    <tr>\n",
       "      <th>Topic</th>\n",
       "      <td>IT</td>\n",
       "      <td>IT</td>\n",
       "      <td>IT</td>\n",
       "      <td>IT</td>\n",
       "      <td>IT</td>\n",
       "    </tr>\n",
       "    <tr>\n",
       "      <th>Semester</th>\n",
       "      <td>F</td>\n",
       "      <td>F</td>\n",
       "      <td>F</td>\n",
       "      <td>F</td>\n",
       "      <td>F</td>\n",
       "    </tr>\n",
       "    <tr>\n",
       "      <th>Relation</th>\n",
       "      <td>Father</td>\n",
       "      <td>Father</td>\n",
       "      <td>Father</td>\n",
       "      <td>Father</td>\n",
       "      <td>Father</td>\n",
       "    </tr>\n",
       "    <tr>\n",
       "      <th>raisedhands</th>\n",
       "      <td>15</td>\n",
       "      <td>20</td>\n",
       "      <td>10</td>\n",
       "      <td>30</td>\n",
       "      <td>40</td>\n",
       "    </tr>\n",
       "    <tr>\n",
       "      <th>VisITedResources</th>\n",
       "      <td>16</td>\n",
       "      <td>20</td>\n",
       "      <td>7</td>\n",
       "      <td>25</td>\n",
       "      <td>50</td>\n",
       "    </tr>\n",
       "    <tr>\n",
       "      <th>AnnouncementsView</th>\n",
       "      <td>2</td>\n",
       "      <td>3</td>\n",
       "      <td>0</td>\n",
       "      <td>5</td>\n",
       "      <td>12</td>\n",
       "    </tr>\n",
       "    <tr>\n",
       "      <th>Discussion</th>\n",
       "      <td>20</td>\n",
       "      <td>25</td>\n",
       "      <td>30</td>\n",
       "      <td>35</td>\n",
       "      <td>50</td>\n",
       "    </tr>\n",
       "    <tr>\n",
       "      <th>ParentAnsweringSurvey</th>\n",
       "      <td>Yes</td>\n",
       "      <td>Yes</td>\n",
       "      <td>No</td>\n",
       "      <td>No</td>\n",
       "      <td>No</td>\n",
       "    </tr>\n",
       "    <tr>\n",
       "      <th>ParentschoolSatisfaction</th>\n",
       "      <td>Good</td>\n",
       "      <td>Good</td>\n",
       "      <td>Bad</td>\n",
       "      <td>Bad</td>\n",
       "      <td>Bad</td>\n",
       "    </tr>\n",
       "    <tr>\n",
       "      <th>StudentAbsenceDays</th>\n",
       "      <td>Under-7</td>\n",
       "      <td>Under-7</td>\n",
       "      <td>Above-7</td>\n",
       "      <td>Above-7</td>\n",
       "      <td>Above-7</td>\n",
       "    </tr>\n",
       "    <tr>\n",
       "      <th>Class</th>\n",
       "      <td>M</td>\n",
       "      <td>M</td>\n",
       "      <td>L</td>\n",
       "      <td>L</td>\n",
       "      <td>M</td>\n",
       "    </tr>\n",
       "  </tbody>\n",
       "</table>\n",
       "</div>"
      ],
      "text/plain": [
       "                                   0           1           2           3  \\\n",
       "gender                             M           M           M           M   \n",
       "NationalITy                       KW          KW          KW          KW   \n",
       "PlaceofBirth                  KuwaIT      KuwaIT      KuwaIT      KuwaIT   \n",
       "StageID                   lowerlevel  lowerlevel  lowerlevel  lowerlevel   \n",
       "GradeID                            4           4           4           4   \n",
       "SectionID                          A           A           A           A   \n",
       "Topic                             IT          IT          IT          IT   \n",
       "Semester                           F           F           F           F   \n",
       "Relation                      Father      Father      Father      Father   \n",
       "raisedhands                       15          20          10          30   \n",
       "VisITedResources                  16          20           7          25   \n",
       "AnnouncementsView                  2           3           0           5   \n",
       "Discussion                        20          25          30          35   \n",
       "ParentAnsweringSurvey            Yes         Yes          No          No   \n",
       "ParentschoolSatisfaction        Good        Good         Bad         Bad   \n",
       "StudentAbsenceDays           Under-7     Under-7     Above-7     Above-7   \n",
       "Class                              M           M           L           L   \n",
       "\n",
       "                                   4  \n",
       "gender                             M  \n",
       "NationalITy                       KW  \n",
       "PlaceofBirth                  KuwaIT  \n",
       "StageID                   lowerlevel  \n",
       "GradeID                            4  \n",
       "SectionID                          A  \n",
       "Topic                             IT  \n",
       "Semester                           F  \n",
       "Relation                      Father  \n",
       "raisedhands                       40  \n",
       "VisITedResources                  50  \n",
       "AnnouncementsView                 12  \n",
       "Discussion                        50  \n",
       "ParentAnsweringSurvey             No  \n",
       "ParentschoolSatisfaction         Bad  \n",
       "StudentAbsenceDays           Above-7  \n",
       "Class                              M  "
      ]
     },
     "execution_count": 51,
     "metadata": {},
     "output_type": "execute_result"
    }
   ],
   "source": [
    "# To visualise the first five columns, simply add transpose. \n",
    "pd.DataFrame(df.take(5), columns=df.columns).transpose()"
   ]
  },
  {
   "cell_type": "code",
   "execution_count": 52,
   "metadata": {
    "scrolled": true
   },
   "outputs": [
    {
     "data": {
      "text/html": [
       "<div>\n",
       "<style scoped>\n",
       "    .dataframe tbody tr th:only-of-type {\n",
       "        vertical-align: middle;\n",
       "    }\n",
       "\n",
       "    .dataframe tbody tr th {\n",
       "        vertical-align: top;\n",
       "    }\n",
       "\n",
       "    .dataframe thead th {\n",
       "        text-align: right;\n",
       "    }\n",
       "</style>\n",
       "<table border=\"1\" class=\"dataframe\">\n",
       "  <thead>\n",
       "    <tr style=\"text-align: right;\">\n",
       "      <th></th>\n",
       "      <th>GradeID</th>\n",
       "      <th>count</th>\n",
       "    </tr>\n",
       "  </thead>\n",
       "  <tbody>\n",
       "    <tr>\n",
       "      <th>0</th>\n",
       "      <td>12.0</td>\n",
       "      <td>11</td>\n",
       "    </tr>\n",
       "    <tr>\n",
       "      <th>1</th>\n",
       "      <td>NaN</td>\n",
       "      <td>6</td>\n",
       "    </tr>\n",
       "    <tr>\n",
       "      <th>2</th>\n",
       "      <td>6.0</td>\n",
       "      <td>35</td>\n",
       "    </tr>\n",
       "    <tr>\n",
       "      <th>3</th>\n",
       "      <td>5.0</td>\n",
       "      <td>4</td>\n",
       "    </tr>\n",
       "    <tr>\n",
       "      <th>4</th>\n",
       "      <td>9.0</td>\n",
       "      <td>5</td>\n",
       "    </tr>\n",
       "    <tr>\n",
       "      <th>5</th>\n",
       "      <td>4.0</td>\n",
       "      <td>48</td>\n",
       "    </tr>\n",
       "    <tr>\n",
       "      <th>6</th>\n",
       "      <td>8.0</td>\n",
       "      <td>117</td>\n",
       "    </tr>\n",
       "    <tr>\n",
       "      <th>7</th>\n",
       "      <td>7.0</td>\n",
       "      <td>106</td>\n",
       "    </tr>\n",
       "    <tr>\n",
       "      <th>8</th>\n",
       "      <td>10.0</td>\n",
       "      <td>6</td>\n",
       "    </tr>\n",
       "    <tr>\n",
       "      <th>9</th>\n",
       "      <td>11.0</td>\n",
       "      <td>13</td>\n",
       "    </tr>\n",
       "    <tr>\n",
       "      <th>10</th>\n",
       "      <td>2.0</td>\n",
       "      <td>150</td>\n",
       "    </tr>\n",
       "  </tbody>\n",
       "</table>\n",
       "</div>"
      ],
      "text/plain": [
       "    GradeID  count\n",
       "0      12.0     11\n",
       "1       NaN      6\n",
       "2       6.0     35\n",
       "3       5.0      4\n",
       "4       9.0      5\n",
       "5       4.0     48\n",
       "6       8.0    117\n",
       "7       7.0    106\n",
       "8      10.0      6\n",
       "9      11.0     13\n",
       "10      2.0    150"
      ]
     },
     "execution_count": 52,
     "metadata": {},
     "output_type": "execute_result"
    }
   ],
   "source": [
    "# We can use group by and count to find out how many data points we have for each class in our predictor. \n",
    "df.groupby('GradeID').count().toPandas()"
   ]
  },
  {
   "cell_type": "code",
   "execution_count": 53,
   "metadata": {},
   "outputs": [
    {
     "data": {
      "text/html": [
       "<div>\n",
       "<style scoped>\n",
       "    .dataframe tbody tr th:only-of-type {\n",
       "        vertical-align: middle;\n",
       "    }\n",
       "\n",
       "    .dataframe tbody tr th {\n",
       "        vertical-align: top;\n",
       "    }\n",
       "\n",
       "    .dataframe thead th {\n",
       "        text-align: right;\n",
       "    }\n",
       "</style>\n",
       "<table border=\"1\" class=\"dataframe\">\n",
       "  <thead>\n",
       "    <tr style=\"text-align: right;\">\n",
       "      <th></th>\n",
       "      <th>0</th>\n",
       "      <th>1</th>\n",
       "      <th>2</th>\n",
       "      <th>3</th>\n",
       "      <th>4</th>\n",
       "    </tr>\n",
       "  </thead>\n",
       "  <tbody>\n",
       "    <tr>\n",
       "      <th>summary</th>\n",
       "      <td>count</td>\n",
       "      <td>mean</td>\n",
       "      <td>stddev</td>\n",
       "      <td>min</td>\n",
       "      <td>max</td>\n",
       "    </tr>\n",
       "    <tr>\n",
       "      <th>GradeID</th>\n",
       "      <td>495</td>\n",
       "      <td>5.616161616161616</td>\n",
       "      <td>2.8309562292991917</td>\n",
       "      <td>2</td>\n",
       "      <td>12</td>\n",
       "    </tr>\n",
       "    <tr>\n",
       "      <th>raisedhands</th>\n",
       "      <td>497</td>\n",
       "      <td>46.45070422535211</td>\n",
       "      <td>30.61470505874116</td>\n",
       "      <td>0</td>\n",
       "      <td>100</td>\n",
       "    </tr>\n",
       "    <tr>\n",
       "      <th>VisITedResources</th>\n",
       "      <td>497</td>\n",
       "      <td>54.23943661971831</td>\n",
       "      <td>32.83102225430407</td>\n",
       "      <td>0</td>\n",
       "      <td>99</td>\n",
       "    </tr>\n",
       "    <tr>\n",
       "      <th>AnnouncementsView</th>\n",
       "      <td>499</td>\n",
       "      <td>37.94188376753507</td>\n",
       "      <td>26.591937760795336</td>\n",
       "      <td>0</td>\n",
       "      <td>98</td>\n",
       "    </tr>\n",
       "    <tr>\n",
       "      <th>Discussion</th>\n",
       "      <td>494</td>\n",
       "      <td>42.95748987854251</td>\n",
       "      <td>27.80160469661409</td>\n",
       "      <td>0</td>\n",
       "      <td>99</td>\n",
       "    </tr>\n",
       "  </tbody>\n",
       "</table>\n",
       "</div>"
      ],
      "text/plain": [
       "                       0                  1                   2    3    4\n",
       "summary            count               mean              stddev  min  max\n",
       "GradeID              495  5.616161616161616  2.8309562292991917    2   12\n",
       "raisedhands          497  46.45070422535211   30.61470505874116    0  100\n",
       "VisITedResources     497  54.23943661971831   32.83102225430407    0   99\n",
       "AnnouncementsView    499  37.94188376753507  26.591937760795336    0   98\n",
       "Discussion           494  42.95748987854251   27.80160469661409    0   99"
      ]
     },
     "execution_count": 53,
     "metadata": {},
     "output_type": "execute_result"
    }
   ],
   "source": [
    "# Using a for loop to find all columns that belong to the integer data type. \n",
    "numeric_features = [t[0] for t in df.dtypes if t[1] == 'int']\n",
    "\n",
    "# Selecting the numeric features, generating summary statistics, and converting to a Pandas DataFrame.\n",
    "df.select(numeric_features).describe().toPandas().transpose()"
   ]
  },
  {
   "cell_type": "code",
   "execution_count": 54,
   "metadata": {
    "scrolled": true
   },
   "outputs": [
    {
     "name": "stdout",
     "output_type": "stream",
     "text": [
      "root\n",
      " |-- gender: string (nullable = true)\n",
      " |-- StageID: string (nullable = true)\n",
      " |-- SectionID: string (nullable = true)\n",
      " |-- Topic: string (nullable = true)\n",
      " |-- raisedhands: integer (nullable = true)\n",
      " |-- VisITedResources: integer (nullable = true)\n",
      " |-- AnnouncementsView: integer (nullable = true)\n",
      " |-- Discussion: integer (nullable = true)\n",
      " |-- StudentAbsenceDays: string (nullable = true)\n",
      " |-- GradeID: integer (nullable = true)\n",
      "\n"
     ]
    }
   ],
   "source": [
    "# Now that we've carried out some basic data exploration, let's select the relevant features. Day/month have been excluded as they're irrelevant.\n",
    "df = df.select('gender','StageID','SectionID','Topic', 'raisedhands', 'VisITedResources','AnnouncementsView','Discussion','StudentAbsenceDays','GradeID')\n",
    "df.printSchema()"
   ]
  },
  {
   "cell_type": "code",
   "execution_count": 55,
   "metadata": {},
   "outputs": [
    {
     "data": {
      "text/plain": [
       "['gender',\n",
       " 'StageID',\n",
       " 'SectionID',\n",
       " 'Topic',\n",
       " 'raisedhands',\n",
       " 'VisITedResources',\n",
       " 'AnnouncementsView',\n",
       " 'Discussion',\n",
       " 'StudentAbsenceDays',\n",
       " 'GradeID']"
      ]
     },
     "execution_count": 55,
     "metadata": {},
     "output_type": "execute_result"
    }
   ],
   "source": [
    "df.columns"
   ]
  },
  {
   "cell_type": "code",
   "execution_count": 56,
   "metadata": {},
   "outputs": [],
   "source": [
    "my_col = df.select(['gender','StageID','Topic','raisedhands','VisITedResources','AnnouncementsView','Discussion','StudentAbsenceDays','GradeID'])"
   ]
  },
  {
   "cell_type": "code",
   "execution_count": 57,
   "metadata": {},
   "outputs": [],
   "source": [
    "final_data = my_col.na.drop()"
   ]
  },
  {
   "cell_type": "code",
   "execution_count": 58,
   "metadata": {},
   "outputs": [],
   "source": [
    "from pyspark.ml.feature import (VectorAssembler, StringIndexer, VectorIndexer, OneHotEncoder)\n",
    "\n",
    "gender_indexer = StringIndexer(inputCol = 'gender', outputCol = 'genderIndex')\n",
    "gender_encoder = OneHotEncoder(inputCol='genderIndex', outputCol = 'genderVec')"
   ]
  },
  {
   "cell_type": "code",
   "execution_count": 59,
   "metadata": {},
   "outputs": [],
   "source": [
    "Topic_indexer = StringIndexer(inputCol = 'Topic', outputCol = 'TopicIndex')\n",
    "Topic_encoder = OneHotEncoder(inputCol = 'TopicIndex', outputCol = 'TopicVec')"
   ]
  },
  {
   "cell_type": "code",
   "execution_count": 60,
   "metadata": {},
   "outputs": [],
   "source": [
    "StudentAbsenceDays_indexer = StringIndexer(inputCol = 'StudentAbsenceDays', outputCol = 'StudentAbsenceDaysIndex')\n",
    "StudentAbsenceDays_encoder = OneHotEncoder(inputCol = 'StudentAbsenceDaysIndex', outputCol = 'StudentAbsenceDaysVec')"
   ]
  },
  {
   "cell_type": "code",
   "execution_count": 61,
   "metadata": {},
   "outputs": [],
   "source": [
    "StageID_indexer = StringIndexer(inputCol = 'StageID', outputCol = 'StageIDIndex')\n",
    "StageID_encoder = OneHotEncoder(inputCol = 'StageIDIndex', outputCol = 'StageIDVec')"
   ]
  },
  {
   "cell_type": "code",
   "execution_count": 62,
   "metadata": {},
   "outputs": [],
   "source": [
    "assembler = VectorAssembler(inputCols = ['genderVec', 'StageIDVec', 'TopicVec', 'raisedhands', 'VisITedResources', 'AnnouncementsView', 'Discussion', 'StudentAbsenceDaysVec'], outputCol = 'features')"
   ]
  },
  {
   "cell_type": "code",
   "execution_count": 63,
   "metadata": {},
   "outputs": [],
   "source": [
    "from pyspark.ml import Pipeline\n",
    "\n",
    "log_reg = LogisticRegression(featuresCol = 'features', labelCol = 'GradeID')"
   ]
  },
  {
   "cell_type": "code",
   "execution_count": 64,
   "metadata": {},
   "outputs": [],
   "source": [
    "pipeline = Pipeline(stages = [gender_indexer, Topic_indexer, \n",
    "                             StudentAbsenceDays_indexer, StageID_indexer, gender_encoder, Topic_encoder,\n",
    "                             StudentAbsenceDays_encoder, StageID_encoder, assembler, log_reg])"
   ]
  },
  {
   "cell_type": "code",
   "execution_count": 65,
   "metadata": {},
   "outputs": [],
   "source": [
    "train, test = final_data.randomSplit([0.7, 0.3])"
   ]
  },
  {
   "cell_type": "code",
   "execution_count": 66,
   "metadata": {},
   "outputs": [
    {
     "name": "stdout",
     "output_type": "stream",
     "text": [
      "+----------+-------+\n",
      "|prediction|GradeID|\n",
      "+----------+-------+\n",
      "|      12.0|     12|\n",
      "|      12.0|     12|\n",
      "|       2.0|     11|\n",
      "+----------+-------+\n",
      "only showing top 3 rows\n",
      "\n"
     ]
    }
   ],
   "source": [
    "fit_model = pipeline.fit(train)\n",
    "results = fit_model.transform(test)\n",
    "results.select('prediction', 'GradeID').show(3)"
   ]
  },
  {
   "cell_type": "code",
   "execution_count": 67,
   "metadata": {},
   "outputs": [
    {
     "data": {
      "text/plain": [
       "1.0"
      ]
     },
     "execution_count": 67,
     "metadata": {},
     "output_type": "execute_result"
    }
   ],
   "source": [
    "from pyspark.ml.evaluation import BinaryClassificationEvaluator\n",
    "\n",
    "eval = BinaryClassificationEvaluator(rawPredictionCol = 'rawPrediction', labelCol = 'GradeID')\n",
    "AUC = eval.evaluate(results)\n",
    "AUC"
   ]
  },
  {
   "cell_type": "code",
   "execution_count": 68,
   "metadata": {},
   "outputs": [
    {
     "name": "stdout",
     "output_type": "stream",
     "text": [
      "345\n",
      "156\n"
     ]
    }
   ],
   "source": [
    "train, test = df.randomSplit([0.7, 0.3], seed=100)\n",
    "print(train.count())\n",
    "print(test.count())"
   ]
  },
  {
   "cell_type": "code",
   "execution_count": 69,
   "metadata": {
    "collapsed": true
   },
   "outputs": [
    {
     "ename": "NameError",
     "evalue": "name 'pipe_df' is not defined",
     "output_type": "error",
     "traceback": [
      "\u001b[0;31m---------------------------------------------------------------------------\u001b[0m",
      "\u001b[0;31mNameError\u001b[0m                                 Traceback (most recent call last)",
      "\u001b[0;32m<ipython-input-69-cbf3dbef7d21>\u001b[0m in \u001b[0;36m<module>\u001b[0;34m()\u001b[0m\n\u001b[1;32m      2\u001b[0m \u001b[0;34m\u001b[0m\u001b[0m\n\u001b[1;32m      3\u001b[0m \u001b[0;31m# Split our data. Note that the new DataFrame is being used.\u001b[0m\u001b[0;34m\u001b[0m\u001b[0;34m\u001b[0m\u001b[0m\n\u001b[0;32m----> 4\u001b[0;31m \u001b[0mtrain_data\u001b[0m\u001b[0;34m,\u001b[0m \u001b[0mtest_data\u001b[0m \u001b[0;34m=\u001b[0m \u001b[0mpipe_df\u001b[0m\u001b[0;34m.\u001b[0m\u001b[0mrandomSplit\u001b[0m\u001b[0;34m(\u001b[0m\u001b[0;34m[\u001b[0m\u001b[0;36m0.7\u001b[0m\u001b[0;34m,\u001b[0m\u001b[0;36m0.3\u001b[0m\u001b[0;34m]\u001b[0m\u001b[0;34m)\u001b[0m\u001b[0;34m\u001b[0m\u001b[0m\n\u001b[0m\u001b[1;32m      5\u001b[0m \u001b[0mprint\u001b[0m\u001b[0;34m(\u001b[0m\u001b[0;34m\"Training Dataset Count: \"\u001b[0m \u001b[0;34m+\u001b[0m \u001b[0mstr\u001b[0m\u001b[0;34m(\u001b[0m\u001b[0mtrain_data\u001b[0m\u001b[0;34m.\u001b[0m\u001b[0mcount\u001b[0m\u001b[0;34m(\u001b[0m\u001b[0;34m)\u001b[0m\u001b[0;34m)\u001b[0m\u001b[0;34m)\u001b[0m\u001b[0;34m\u001b[0m\u001b[0m\n\u001b[1;32m      6\u001b[0m \u001b[0mprint\u001b[0m\u001b[0;34m(\u001b[0m\u001b[0;34m\"Test Dataset Count: \"\u001b[0m \u001b[0;34m+\u001b[0m \u001b[0mstr\u001b[0m\u001b[0;34m(\u001b[0m\u001b[0mtest_data\u001b[0m\u001b[0;34m.\u001b[0m\u001b[0mcount\u001b[0m\u001b[0;34m(\u001b[0m\u001b[0;34m)\u001b[0m\u001b[0;34m)\u001b[0m\u001b[0;34m)\u001b[0m\u001b[0;34m\u001b[0m\u001b[0m\n",
      "\u001b[0;31mNameError\u001b[0m: name 'pipe_df' is not defined"
     ]
    }
   ],
   "source": [
    "from pyspark.ml.classification import LogisticRegression\n",
    "\n",
    "# Split our data. Note that the new DataFrame is being used.\n",
    "train_data, test_data = pipe_df.randomSplit([0.7,0.3])\n",
    "print(\"Training Dataset Count: \" + str(train_data.count()))\n",
    "print(\"Test Dataset Count: \" + str(test_data.count()))\n",
    "\n",
    "# Instantiate the model.\n",
    "lr_model = LogisticRegression(featuresCol='features',labelCol='label')\n",
    "\n",
    "# Fit the model.\n",
    "lr_model = lr_model.fit(train_data)\n",
    "\n",
    "# And evaluate the model using the test data.\n",
    "results = lr_model.transform(test_data)"
   ]
  },
  {
   "cell_type": "code",
   "execution_count": 70,
   "metadata": {},
   "outputs": [
    {
     "ename": "NameError",
     "evalue": "name 'lr_model' is not defined",
     "output_type": "error",
     "traceback": [
      "\u001b[0;31m---------------------------------------------------------------------------\u001b[0m",
      "\u001b[0;31mNameError\u001b[0m                                 Traceback (most recent call last)",
      "\u001b[0;32m<ipython-input-70-0140beec1313>\u001b[0m in \u001b[0;36m<module>\u001b[0;34m()\u001b[0m\n\u001b[1;32m      3\u001b[0m \u001b[0;34m\u001b[0m\u001b[0m\n\u001b[1;32m      4\u001b[0m \u001b[0;31m# Visualising the coefficients. Sort from lowest to highest.\u001b[0m\u001b[0;34m\u001b[0m\u001b[0;34m\u001b[0m\u001b[0m\n\u001b[0;32m----> 5\u001b[0;31m \u001b[0mbeta\u001b[0m \u001b[0;34m=\u001b[0m \u001b[0mnp\u001b[0m\u001b[0;34m.\u001b[0m\u001b[0msort\u001b[0m\u001b[0;34m(\u001b[0m\u001b[0mlr_model\u001b[0m\u001b[0;34m.\u001b[0m\u001b[0mcoefficients\u001b[0m\u001b[0;34m)\u001b[0m\u001b[0;34m\u001b[0m\u001b[0m\n\u001b[0m\u001b[1;32m      6\u001b[0m \u001b[0;34m\u001b[0m\u001b[0m\n\u001b[1;32m      7\u001b[0m \u001b[0;31m# Plot the data.\u001b[0m\u001b[0;34m\u001b[0m\u001b[0;34m\u001b[0m\u001b[0m\n",
      "\u001b[0;31mNameError\u001b[0m: name 'lr_model' is not defined"
     ]
    }
   ],
   "source": [
    "import matplotlib.pyplot as plt\n",
    "import numpy as np\n",
    "\n",
    "# Visualising the coefficients. Sort from lowest to highest.\n",
    "beta = np.sort(lr_model.coefficients)\n",
    "\n",
    "# Plot the data.\n",
    "plt.plot(beta)\n",
    "\n",
    "# Add a label to the data.\n",
    "plt.ylabel('Beta Coefficients')\n",
    "\n",
    "# Show the graph. \n",
    "plt.show()"
   ]
  },
  {
   "cell_type": "code",
   "execution_count": 71,
   "metadata": {},
   "outputs": [
    {
     "ename": "NameError",
     "evalue": "name 'lr_model' is not defined",
     "output_type": "error",
     "traceback": [
      "\u001b[0;31m---------------------------------------------------------------------------\u001b[0m",
      "\u001b[0;31mNameError\u001b[0m                                 Traceback (most recent call last)",
      "\u001b[0;32m<ipython-input-71-7f858d1fa337>\u001b[0m in \u001b[0;36m<module>\u001b[0;34m()\u001b[0m\n\u001b[1;32m      1\u001b[0m \u001b[0;31m# Let's get a summary of the data.\u001b[0m\u001b[0;34m\u001b[0m\u001b[0;34m\u001b[0m\u001b[0m\n\u001b[0;32m----> 2\u001b[0;31m \u001b[0mtraining_summary\u001b[0m \u001b[0;34m=\u001b[0m \u001b[0mlr_model\u001b[0m\u001b[0;34m.\u001b[0m\u001b[0msummary\u001b[0m\u001b[0;34m\u001b[0m\u001b[0m\n\u001b[0m\u001b[1;32m      3\u001b[0m \u001b[0;34m\u001b[0m\u001b[0m\n\u001b[1;32m      4\u001b[0m \u001b[0;31m# Convert the DataFrame to a Pandas DataFrame.\u001b[0m\u001b[0;34m\u001b[0m\u001b[0;34m\u001b[0m\u001b[0m\n\u001b[1;32m      5\u001b[0m \u001b[0mROC\u001b[0m \u001b[0;34m=\u001b[0m \u001b[0mtraining_summary\u001b[0m\u001b[0;34m.\u001b[0m\u001b[0mroc\u001b[0m\u001b[0;34m.\u001b[0m\u001b[0mtoPandas\u001b[0m\u001b[0;34m(\u001b[0m\u001b[0;34m)\u001b[0m\u001b[0;34m\u001b[0m\u001b[0m\n",
      "\u001b[0;31mNameError\u001b[0m: name 'lr_model' is not defined"
     ]
    }
   ],
   "source": [
    "# Let's get a summary of the data.\n",
    "training_summary = lr_model.summary\n",
    "\n",
    "# Convert the DataFrame to a Pandas DataFrame.\n",
    "ROC = training_summary.roc.toPandas()\n",
    "\n",
    "# Plot the true positive and false positive rates.\n",
    "plt.plot(ROC['FPR'],ROC['TPR'])\n",
    "\n",
    "# Define the labels.\n",
    "plt.ylabel('True Positive Rate')\n",
    "plt.xlabel('False Positive Rate')\n",
    "plt.title('ROC Curve')\n",
    "plt.show()\n",
    "\n",
    "# Print the AUC statistic. \n",
    "print('Area Under the Curve: ' + str(training_summary.areaUnderROC))"
   ]
  },
  {
   "cell_type": "code",
   "execution_count": 72,
   "metadata": {},
   "outputs": [
    {
     "ename": "NameError",
     "evalue": "name 'training_summary' is not defined",
     "output_type": "error",
     "traceback": [
      "\u001b[0;31m---------------------------------------------------------------------------\u001b[0m",
      "\u001b[0;31mNameError\u001b[0m                                 Traceback (most recent call last)",
      "\u001b[0;32m<ipython-input-72-8ca665b9b751>\u001b[0m in \u001b[0;36m<module>\u001b[0;34m()\u001b[0m\n\u001b[1;32m      1\u001b[0m \u001b[0;31m# Convert DataFrame to Pandas DataFrame.\u001b[0m\u001b[0;34m\u001b[0m\u001b[0;34m\u001b[0m\u001b[0m\n\u001b[0;32m----> 2\u001b[0;31m \u001b[0mpr\u001b[0m \u001b[0;34m=\u001b[0m \u001b[0mtraining_summary\u001b[0m\u001b[0;34m.\u001b[0m\u001b[0mpr\u001b[0m\u001b[0;34m.\u001b[0m\u001b[0mtoPandas\u001b[0m\u001b[0;34m(\u001b[0m\u001b[0;34m)\u001b[0m\u001b[0;34m\u001b[0m\u001b[0m\n\u001b[0m\u001b[1;32m      3\u001b[0m \u001b[0;34m\u001b[0m\u001b[0m\n\u001b[1;32m      4\u001b[0m \u001b[0;31m# Plot model recall and precision.\u001b[0m\u001b[0;34m\u001b[0m\u001b[0;34m\u001b[0m\u001b[0m\n\u001b[1;32m      5\u001b[0m \u001b[0mplt\u001b[0m\u001b[0;34m.\u001b[0m\u001b[0mplot\u001b[0m\u001b[0;34m(\u001b[0m\u001b[0mpr\u001b[0m\u001b[0;34m[\u001b[0m\u001b[0;34m'recall'\u001b[0m\u001b[0;34m]\u001b[0m\u001b[0;34m,\u001b[0m\u001b[0mpr\u001b[0m\u001b[0;34m[\u001b[0m\u001b[0;34m'precision'\u001b[0m\u001b[0;34m]\u001b[0m\u001b[0;34m)\u001b[0m\u001b[0;34m\u001b[0m\u001b[0m\n",
      "\u001b[0;31mNameError\u001b[0m: name 'training_summary' is not defined"
     ]
    }
   ],
   "source": [
    "# Convert DataFrame to Pandas DataFrame.\n",
    "pr = training_summary.pr.toPandas()\n",
    "\n",
    "# Plot model recall and precision.\n",
    "plt.plot(pr['recall'],pr['precision'])\n",
    "\n",
    "# Define the labels and show the graph. \n",
    "plt.ylabel('Precision')\n",
    "plt.xlabel('Recall')\n",
    "plt.show()"
   ]
  },
  {
   "cell_type": "code",
   "execution_count": null,
   "metadata": {},
   "outputs": [],
   "source": []
  }
 ],
 "metadata": {
  "kernelspec": {
   "display_name": "Python 3",
   "language": "python",
   "name": "python3"
  },
  "language_info": {
   "codemirror_mode": {
    "name": "ipython",
    "version": 3
   },
   "file_extension": ".py",
   "mimetype": "text/x-python",
   "name": "python",
   "nbconvert_exporter": "python",
   "pygments_lexer": "ipython3",
   "version": "3.5.2"
  }
 },
 "nbformat": 4,
 "nbformat_minor": 2
}
